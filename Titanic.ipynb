{
 "cells": [
  {
   "cell_type": "code",
   "execution_count": null,
   "metadata": {},
   "outputs": [],
   "source": [
    "#Question 1: What was the survival rate overall?\n",
    "\n",
    "# The overall survival rate is 38%"
   ]
  },
  {
   "cell_type": "code",
   "execution_count": null,
   "metadata": {},
   "outputs": [],
   "source": [
    "#Question 2: Which gender fared the worst? What was their survival rate?\n",
    "\n",
    "#Men fared the worst with a survival rate of 18%"
   ]
  },
  {
   "cell_type": "code",
   "execution_count": null,
   "metadata": {},
   "outputs": [],
   "source": [
    "#Question 3: What was the survival rate for each Pclass?\n",
    "\n",
    "\n",
    "#1st class:    62%\n",
    "#2nd Class:    47%\n",
    "#3rd Class:    24%"
   ]
  },
  {
   "cell_type": "code",
   "execution_count": null,
   "metadata": {},
   "outputs": [],
   "source": [
    "#Question 4: Did any reverends survive? How many?\n",
    "\n",
    "# Zero reverends survived"
   ]
  },
  {
   "cell_type": "code",
   "execution_count": null,
   "metadata": {},
   "outputs": [],
   "source": [
    "#Question 5: What is the survival rate for cabins marked ¯\\(ツ)/¯\n",
    "\n",
    "# Cabins marked with ¯\\(ツ)/¯ had a 29% survival rate."
   ]
  },
  {
   "cell_type": "code",
   "execution_count": null,
   "metadata": {},
   "outputs": [],
   "source": [
    "#Question 6: What is the survival rate for people whose Age is empty?\n",
    "\n",
    "# The survival rate for people whose Age is empty is 29%"
   ]
  },
  {
   "cell_type": "code",
   "execution_count": null,
   "metadata": {},
   "outputs": [],
   "source": [
    "#Questions 7: What is the survival rate for each port of embarkation?\n",
    "\n",
    "# Embarkadation C    55%\n",
    "# Embarkadation Q    38%\n",
    "# Embarkadation S    33%"
   ]
  },
  {
   "cell_type": "code",
   "execution_count": null,
   "metadata": {},
   "outputs": [],
   "source": [
    "#Question 8: What is the survival rate for children (under 12) in each Pclass?\n",
    "\n",
    "#?????????????????????????????????????????????????????????????????????????????"
   ]
  },
  {
   "cell_type": "code",
   "execution_count": null,
   "metadata": {},
   "outputs": [],
   "source": [
    "#Question 9: Did the captain of the ship survive? Is he on the list?\n",
    "\n",
    "#He did not survive and does not appear to be on the list"
   ]
  },
  {
   "cell_type": "code",
   "execution_count": null,
   "metadata": {},
   "outputs": [],
   "source": [
    "#Question 10: Of all the people that died, who had the most expensive ticket? How much did it cost?\n",
    "\n",
    "#Miss Anna Ward had the most expensive ticket at $512.32"
   ]
  },
  {
   "cell_type": "code",
   "execution_count": null,
   "metadata": {},
   "outputs": [],
   "source": [
    "#Question 11: Does having family on the boat help or hurt your chances of survival?\n",
    "\n",
    "#Having a family does appear to help your chances of survival"
   ]
  }
 ],
 "metadata": {
  "kernelspec": {
   "display_name": "Python 3",
   "language": "python",
   "name": "python3"
  },
  "language_info": {
   "codemirror_mode": {
    "name": "ipython",
    "version": 3
   },
   "file_extension": ".py",
   "mimetype": "text/x-python",
   "name": "python",
   "nbconvert_exporter": "python",
   "pygments_lexer": "ipython3",
   "version": "3.7.3"
  }
 },
 "nbformat": 4,
 "nbformat_minor": 2
}
